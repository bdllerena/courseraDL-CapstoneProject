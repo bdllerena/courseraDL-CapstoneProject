{
 "cells": [
  {
   "cell_type": "markdown",
   "metadata": {
    "collapsed": true
   },
   "source": [
    "# Capstone Project \n",
    "### David Llerena"
   ]
  },
  {
   "cell_type": "markdown",
   "metadata": {},
   "source": [
    "\n",
    "\n",
    "## Introduction: Business Problem <a name=\"introduction\"></a>"
   ]
  },
  {
   "cell_type": "markdown",
   "metadata": {},
   "source": [
    "Several grocery stores are affected by the current pandemic outbreak, the goal of the project is to find those stores that can be close to neighborhoods and that can avoid the crowds in large supermarkets to avoid contagion"
   ]
  },
  {
   "cell_type": "markdown",
   "metadata": {},
   "source": [
    "## Data <a name=\"data\"></a>"
   ]
  },
  {
   "cell_type": "markdown",
   "metadata": {},
   "source": [
    "Our information will be:\n",
    "* Number of stores near the most populated neighborhoods\n",
    "* Number of grocery stores around the area"
   ]
  },
  {
   "cell_type": "code",
   "execution_count": 4,
   "metadata": {},
   "outputs": [],
   "source": [
    "from bs4 import BeautifulSoup\n",
    "import requests\n",
    "import pandas as pd\n",
    "import numpy as np\n",
    "import csv"
   ]
  },
  {
   "cell_type": "code",
   "execution_count": 5,
   "metadata": {},
   "outputs": [],
   "source": [
    "pd.set_option('max_colwidth', 800)"
   ]
  },
  {
   "cell_type": "code",
   "execution_count": 6,
   "metadata": {},
   "outputs": [],
   "source": [
    "source = requests.get('https://es.wikipedia.org/wiki/Categor%C3%ADa:Barrios_de_Guayaquil').text \n",
    "soup = BeautifulSoup(source, 'lxml')"
   ]
  },
  {
   "cell_type": "code",
   "execution_count": 7,
   "metadata": {},
   "outputs": [
    {
     "data": {
      "text/plain": [
       "15"
      ]
     },
     "execution_count": 7,
     "metadata": {},
     "output_type": "execute_result"
    }
   ],
   "source": [
    "csv_file = open('guayaquil.csv', 'w')\n",
    "csv_writer = csv.writer(csv_file)\n",
    "csv_writer.writerow(['Neighbourhood'])"
   ]
  },
  {
   "cell_type": "code",
   "execution_count": 8,
   "metadata": {},
   "outputs": [],
   "source": [
    "mwcg = soup.find_all(class_ = \"mw-category-group\")\n",
    "\n",
    "length = len(mwcg) \n",
    "for i in range(1, length):  \n",
    "    lists = mwcg [i].find_all('a')\n",
    "    for list in lists:\n",
    "        nbd = list.get('title') \n",
    "        csv_writer.writerow([nbd])"
   ]
  },
  {
   "cell_type": "code",
   "execution_count": 9,
   "metadata": {},
   "outputs": [],
   "source": [
    "csv_file.close()"
   ]
  },
  {
   "cell_type": "code",
   "execution_count": 10,
   "metadata": {},
   "outputs": [],
   "source": [
    "df = pd.read_csv('guayaquil.csv')"
   ]
  },
  {
   "cell_type": "code",
   "execution_count": 11,
   "metadata": {},
   "outputs": [
    {
     "data": {
      "text/plain": [
       "(20, 1)"
      ]
     },
     "execution_count": 11,
     "metadata": {},
     "output_type": "execute_result"
    }
   ],
   "source": [
    "df.shape"
   ]
  },
  {
   "cell_type": "code",
   "execution_count": 12,
   "metadata": {},
   "outputs": [
    {
     "ename": "IndexError",
     "evalue": "list index out of range",
     "output_type": "error",
     "traceback": [
      "\u001b[0;31m---------------------------------------------------------------------------\u001b[0m",
      "\u001b[0;31mIndexError\u001b[0m                                Traceback (most recent call last)",
      "\u001b[0;32m<ipython-input-12-106975458201>\u001b[0m in \u001b[0;36m<module>\u001b[0;34m\u001b[0m\n\u001b[1;32m     11\u001b[0m \u001b[0;34m\u001b[0m\u001b[0m\n\u001b[1;32m     12\u001b[0m     \u001b[0mresults\u001b[0m \u001b[0;34m=\u001b[0m \u001b[0mobj\u001b[0m\u001b[0;34m[\u001b[0m\u001b[0;34m'results'\u001b[0m\u001b[0;34m]\u001b[0m \u001b[0;31m# Extracts the results information out of the JSON file\u001b[0m\u001b[0;34m\u001b[0m\u001b[0;34m\u001b[0m\u001b[0m\n\u001b[0;32m---> 13\u001b[0;31m     \u001b[0mlat\u001b[0m \u001b[0;34m=\u001b[0m \u001b[0mresults\u001b[0m\u001b[0;34m[\u001b[0m\u001b[0;36m0\u001b[0m\u001b[0;34m]\u001b[0m\u001b[0;34m[\u001b[0m\u001b[0;34m'geometry'\u001b[0m\u001b[0;34m]\u001b[0m\u001b[0;34m[\u001b[0m\u001b[0;34m'location'\u001b[0m\u001b[0;34m]\u001b[0m\u001b[0;34m[\u001b[0m\u001b[0;34m'lat'\u001b[0m\u001b[0;34m]\u001b[0m \u001b[0;31m# Extracts the latitude value\u001b[0m\u001b[0;34m\u001b[0m\u001b[0;34m\u001b[0m\u001b[0m\n\u001b[0m\u001b[1;32m     14\u001b[0m     \u001b[0mlng\u001b[0m \u001b[0;34m=\u001b[0m \u001b[0mresults\u001b[0m\u001b[0;34m[\u001b[0m\u001b[0;36m0\u001b[0m\u001b[0;34m]\u001b[0m\u001b[0;34m[\u001b[0m\u001b[0;34m'geometry'\u001b[0m\u001b[0;34m]\u001b[0m\u001b[0;34m[\u001b[0m\u001b[0;34m'location'\u001b[0m\u001b[0;34m]\u001b[0m\u001b[0;34m[\u001b[0m\u001b[0;34m'lng'\u001b[0m\u001b[0;34m]\u001b[0m \u001b[0;31m# Extracts the longitude value\u001b[0m\u001b[0;34m\u001b[0m\u001b[0;34m\u001b[0m\u001b[0m\n\u001b[1;32m     15\u001b[0m \u001b[0;34m\u001b[0m\u001b[0m\n",
      "\u001b[0;31mIndexError\u001b[0m: list index out of range"
     ]
    }
   ],
   "source": [
    "import json\n",
    "\n",
    "latitudes = [] # Initializing the latitude array\n",
    "longitudes = [] # Initializing the longitude array\n",
    "\n",
    "for nbd in df[\"Neighbourhood\"] : \n",
    "    place_name = nbd + \",Guayaquil,Ecuador\" # Formats the place name\n",
    "    API_KEY=''\n",
    "    url = 'https://maps.googleapis.com/maps/api/geocode/json?address={}&key={}'.format(place_name, API_KEY) # Gets the proper url to make the API call\n",
    "    obj = json.loads(requests.get(url).text) # Loads the JSON file in the form of a python dictionary\n",
    "    \n",
    "    results = obj['results'] # Extracts the results information out of the JSON file\n",
    "    lat = results[0]['geometry']['location']['lat'] # Extracts the latitude value\n",
    "    lng = results[0]['geometry']['location']['lng'] # Extracts the longitude value\n",
    "    \n",
    "    latitudes.append(lat) # Appending to the list of latitudes"
   ]
  },
  {
   "cell_type": "code",
   "execution_count": null,
   "metadata": {},
   "outputs": [],
   "source": [
    "df['Latitude'] = latitudes\n",
    "df['Longitude'] = longitudes"
   ]
  },
  {
   "cell_type": "code",
   "execution_count": null,
   "metadata": {},
   "outputs": [],
   "source": [
    "df.head()"
   ]
  },
  {
   "cell_type": "code",
   "execution_count": null,
   "metadata": {},
   "outputs": [],
   "source": [
    "col = 0\n",
    "explored_lat_lng = []\n",
    "for lat, lng, neighbourhood in zip(df['Latitude'], df['Longitude'], df['Neighbourhood']):\n",
    "    if (lat, lng) in explored_lat_lng:\n",
    "        col = col + 1\n",
    "    else:\n",
    "        explored_lat_lng.append((lat, lng))\n",
    "\n",
    "print(\"Collisions : \", col)\n",
    "\n"
   ]
  },
  {
   "cell_type": "code",
   "execution_count": null,
   "metadata": {},
   "outputs": [],
   "source": [
    "!conda install -c conda-forge folium=0.5.0 --yes\n",
    "import folium # Map plotting library\n",
    "import numpy as np\n",
    "from pandas.io.json import json_normalize # Tranform JSON file into a pandas dataframe\n",
    "\n",
    "# Matplotlib and associated plotting modules\n",
    "import matplotlib.cm as cm\n",
    "import matplotlib.colors as colors\n",
    "\n",
    "# Import k-means from clustering stage\n",
    "from sklearn.cluster import KMeans"
   ]
  },
  {
   "cell_type": "code",
   "execution_count": null,
   "metadata": {},
   "outputs": [],
   "source": [
    "gua_lat = 22.5726\n",
    "gua_lng = 88.3639\n",
    "\n",
    "# Creates map of Kolkata using latitude and longitude values\n",
    "map_gua = folium.Map(location=[gua_lat, gua_lng], zoom_start=10)\n",
    "\n",
    "# Add markers to map\n",
    "for lat, lng, neighbourhood in zip(df['Latitude'], df['Longitude'], df['Neighbourhood']):\n",
    "    label = '{}'.format(neighbourhood)\n",
    "    label = folium.Popup(label, parse_html=True)\n",
    "    folium.CircleMarker(\n",
    "        [lat, lng],\n",
    "        radius=5,\n",
    "        popup=label,\n",
    "        color='blue',\n",
    "        fill=True,\n",
    "        fill_color='#3186cc',\n",
    "        fill_opacity=0.7,\n",
    "        parse_html=False).add_to(map_gua)  \n",
    "    \n",
    "map_gua"
   ]
  },
  {
   "cell_type": "code",
   "execution_count": null,
   "metadata": {},
   "outputs": [],
   "source": [
    "def get_category_type(row):\n",
    "    categories_list = row['Category']  \n",
    "    \n",
    "    if len(categories_list) == 0:\n",
    "        return None\n",
    "    else:\n",
    "        return categories_list[0]['name']"
   ]
  },
  {
   "cell_type": "code",
   "execution_count": null,
   "metadata": {},
   "outputs": [],
   "source": [
    "\n",
    "\n",
    "explore_df_list = []\n",
    "\n",
    "for i, nbd_name in enumerate(df['Neighbourhood']):  \n",
    "    \n",
    "    try :\n",
    "        ### Getting the data of neighbourhood\n",
    "        nbd_name = df.loc[i, 'Neighbourhood']\n",
    "        nbd_lat = df.loc[i, 'Latitude']\n",
    "        nbd_lng = df.loc[i, 'Longitude']\n",
    "\n",
    "        radius = 1000 # Setting the radius as 1000 metres\n",
    "        LIMIT = 30 # Getting the top 30 venues\n",
    "\n",
    "        url = 'https://api.foursquare.com/v2/venues/explore?client_id={} \\\n",
    "        &client_secret={}&ll={},{}&v={}&radius={}&limit={}'\\\n",
    "        .format(CLIENT_ID, CLIENT_SECRET, nbd_lat, nbd_lng, VERSION, radius, LIMIT)\n",
    "\n",
    "        results = json.loads(requests.get(url).text)\n",
    "        results = results['response']['groups'][0]['items']\n",
    "\n",
    "        nearby = json_normalize(results) # Flattens JSON\n",
    "\n",
    "        # Filtering the columns\n",
    "        filtered_columns = ['venue.name', 'venue.categories', 'venue.location.lat', 'venue.location.lng']\n",
    "        nearby = nearby.loc[:, filtered_columns]\n",
    "\n",
    "        # Renaming the columns\n",
    "        columns = ['Name', 'Category', 'Latitude', 'Longitude']\n",
    "        nearby.columns = columns\n",
    "\n",
    "        # Gets the categories\n",
    "        nearby['Category'] = nearby.apply(get_category_type, axis=1)    \n",
    "\n",
    "        # Gets the data required\n",
    "        for i, name in enumerate(nearby['Name']):\n",
    "            s_list = nearby.loc[i, :].values.tolist()  # Converts the numpy array to a python list\n",
    "            f_list = [nbd_name, nbd_lat, nbd_lng] + s_list\n",
    "            explore_df_list.append(f_list)\n",
    "    \n",
    "    except Exception as e:\n",
    "        pass\n",
    "\n"
   ]
  },
  {
   "cell_type": "code",
   "execution_count": null,
   "metadata": {},
   "outputs": [],
   "source": [
    "explore_df = pd.DataFrame([item for item in explore_df_list])\n",
    "explore_df.columns = ['Neighbourhood', 'Neighbourhood Latitude', 'Neighbourhood Longitude', 'Venue Name', 'Venue Category', 'Venue Latitude', 'Venue Longitude']\n",
    "explore_df.head()"
   ]
  }
 ],
 "metadata": {
  "kernelspec": {
   "display_name": "Python 3.6",
   "language": "python",
   "name": "python3"
  },
  "language_info": {
   "codemirror_mode": {
    "name": "ipython",
    "version": 3
   },
   "file_extension": ".py",
   "mimetype": "text/x-python",
   "name": "python",
   "nbconvert_exporter": "python",
   "pygments_lexer": "ipython3",
   "version": "3.6.9"
  }
 },
 "nbformat": 4,
 "nbformat_minor": 1
}
